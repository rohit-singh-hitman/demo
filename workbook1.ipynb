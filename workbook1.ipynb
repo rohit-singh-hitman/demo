{
    "cells": [
        {
            "metadata": {},
            "cell_type": "code",
            "source": "",
            "execution_count": null,
            "outputs": []
        },
        {
            "metadata": {},
            "cell_type": "code",
            "source": "\nimport types\nimport pandas as pd\nfrom botocore.client import Config\nimport ibm_boto3\n\ndef __iter__(self): return 0\n\n# @hidden_cell\n# The following code accesses a file in your IBM Cloud Object Storage. It includes your credentials.\n# You might want to remove those credentials before you share the notebook.\nclient_d8fc06c35dd74a3e8829810d7c1be200 = ibm_boto3.client(service_name='s3',\n    ibm_api_key_id='D7p2uKbqaqj_vafnBvJZxqV0sat9NDmmLyT1cl1CC2Md',\n    ibm_auth_endpoint=\"https://iam.cloud.ibm.com/oidc/token\",\n    config=Config(signature_version='oauth'),\n    endpoint_url='https://s3.eu-geo.objectstorage.service.networklayer.com')\n\nbody = client_d8fc06c35dd74a3e8829810d7c1be200.get_object(Bucket='demo-donotdelete-pr-hljpy3ex2glpht',Key='original.csv')['Body']\n# add missing __iter__ method, so pandas accepts body as file-like object\nif not hasattr(body, \"__iter__\"): body.__iter__ = types.MethodType( __iter__, body )\n\ndf_data_1 = pd.read_csv(body)\ndf_data_1.head()\n",
            "execution_count": 3,
            "outputs": [
                {
                    "output_type": "execute_result",
                    "execution_count": 3,
                    "data": {
                        "text/plain": "                           username  gender request time  \\\n0            sgather0@princeton.edu  Female      6:24 AM   \n1               mmyton1@twitter.com  Female     10:01 PM   \n2  cbischof2@scientificamerican.com  Female     10:58 PM   \n3            rfowkes3@pinterest.com    Male      1:51 PM   \n4               cancliffe4@usgs.gov    Male      4:21 AM   \n\n                 country                          url  bytes  \n0                  China           http://tinyurl.com    168  \n1                 Brazil       http://miibeian.gov.cn    858  \n2                 France           http://dedecms.com    945  \n3                  China                http://va.gov    836  \n4  Palestinian Territory  https://theglobeandmail.com    719  ",
                        "text/html": "<div>\n<style scoped>\n    .dataframe tbody tr th:only-of-type {\n        vertical-align: middle;\n    }\n\n    .dataframe tbody tr th {\n        vertical-align: top;\n    }\n\n    .dataframe thead th {\n        text-align: right;\n    }\n</style>\n<table border=\"1\" class=\"dataframe\">\n  <thead>\n    <tr style=\"text-align: right;\">\n      <th></th>\n      <th>username</th>\n      <th>gender</th>\n      <th>request time</th>\n      <th>country</th>\n      <th>url</th>\n      <th>bytes</th>\n    </tr>\n  </thead>\n  <tbody>\n    <tr>\n      <th>0</th>\n      <td>sgather0@princeton.edu</td>\n      <td>Female</td>\n      <td>6:24 AM</td>\n      <td>China</td>\n      <td>http://tinyurl.com</td>\n      <td>168</td>\n    </tr>\n    <tr>\n      <th>1</th>\n      <td>mmyton1@twitter.com</td>\n      <td>Female</td>\n      <td>10:01 PM</td>\n      <td>Brazil</td>\n      <td>http://miibeian.gov.cn</td>\n      <td>858</td>\n    </tr>\n    <tr>\n      <th>2</th>\n      <td>cbischof2@scientificamerican.com</td>\n      <td>Female</td>\n      <td>10:58 PM</td>\n      <td>France</td>\n      <td>http://dedecms.com</td>\n      <td>945</td>\n    </tr>\n    <tr>\n      <th>3</th>\n      <td>rfowkes3@pinterest.com</td>\n      <td>Male</td>\n      <td>1:51 PM</td>\n      <td>China</td>\n      <td>http://va.gov</td>\n      <td>836</td>\n    </tr>\n    <tr>\n      <th>4</th>\n      <td>cancliffe4@usgs.gov</td>\n      <td>Male</td>\n      <td>4:21 AM</td>\n      <td>Palestinian Territory</td>\n      <td>https://theglobeandmail.com</td>\n      <td>719</td>\n    </tr>\n  </tbody>\n</table>\n</div>"
                    },
                    "metadata": {}
                }
            ]
        },
        {
            "metadata": {},
            "cell_type": "code",
            "source": "",
            "execution_count": null,
            "outputs": []
        }
    ],
    "metadata": {
        "kernelspec": {
            "name": "python3",
            "display_name": "Python 3.6",
            "language": "python"
        },
        "language_info": {
            "name": "python",
            "version": "3.6.9",
            "mimetype": "text/x-python",
            "codemirror_mode": {
                "name": "ipython",
                "version": 3
            },
            "pygments_lexer": "ipython3",
            "nbconvert_exporter": "python",
            "file_extension": ".py"
        }
    },
    "nbformat": 4,
    "nbformat_minor": 1
}